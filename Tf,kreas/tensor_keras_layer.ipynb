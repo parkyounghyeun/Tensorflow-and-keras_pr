{
  "nbformat": 4,
  "nbformat_minor": 0,
  "metadata": {
    "colab": {
      "provenance": [],
      "collapsed_sections": [
        "RgRuKVJvdh9j"
      ]
    },
    "kernelspec": {
      "name": "python3",
      "display_name": "Python 3"
    },
    "language_info": {
      "name": "python"
    },
    "accelerator": "GPU",
    "gpuClass": "standard"
  },
  "cells": [
    {
      "cell_type": "markdown",
      "source": [
        "텐서"
      ],
      "metadata": {
        "id": "_vR-8cQEbPs9"
      }
    },
    {
      "cell_type": "code",
      "source": [
        "import numpy as np\n",
        "import tensorflow as tf"
      ],
      "metadata": {
        "id": "uITFH28GbXqa"
      },
      "execution_count": 1,
      "outputs": []
    },
    {
      "cell_type": "markdown",
      "source": [
        "0D Tensor"
      ],
      "metadata": {
        "id": "tjJwcehsbjZQ"
      }
    },
    {
      "cell_type": "code",
      "source": [
        "t0 = tf.constant(1)\n",
        "print(t0)"
      ],
      "metadata": {
        "colab": {
          "base_uri": "https://localhost:8080/"
        },
        "id": "N8lxcpi3biC7",
        "outputId": "fc33173c-ec95-4426-a0c3-d6192a733dcb"
      },
      "execution_count": 3,
      "outputs": [
        {
          "output_type": "stream",
          "name": "stdout",
          "text": [
            "tf.Tensor(1, shape=(), dtype=int32)\n"
          ]
        }
      ]
    },
    {
      "cell_type": "markdown",
      "source": [
        "1D Tensor(Vector)"
      ],
      "metadata": {
        "id": "dh0yIN80bzOK"
      }
    },
    {
      "cell_type": "code",
      "source": [
        "t1 = tf.constant([1,2,3]) #하나의 축으로 연달아 있음\n",
        "print(t1)"
      ],
      "metadata": {
        "colab": {
          "base_uri": "https://localhost:8080/"
        },
        "id": "f5ZWpF-wb101",
        "outputId": "6284c956-5491-436d-af15-72a7fd487f52"
      },
      "execution_count": 5,
      "outputs": [
        {
          "output_type": "stream",
          "name": "stdout",
          "text": [
            "tf.Tensor([1 2 3], shape=(3,), dtype=int32)\n"
          ]
        }
      ]
    },
    {
      "cell_type": "markdown",
      "source": [
        "2D Tensor(Matrix)"
      ],
      "metadata": {
        "id": "1uuZ_777cJ-t"
      }
    },
    {
      "cell_type": "code",
      "source": [
        "t2 = tf.constant([[1,2,3],[4,5,6]]) # shape 2행 3열을 나타냄\n",
        "print(t2)"
      ],
      "metadata": {
        "colab": {
          "base_uri": "https://localhost:8080/"
        },
        "id": "6odFqI5DcOmi",
        "outputId": "8e3a090a-c082-46a5-fcc8-594c7bbaf881"
      },
      "execution_count": 7,
      "outputs": [
        {
          "output_type": "stream",
          "name": "stdout",
          "text": [
            "tf.Tensor(\n",
            "[[1 2 3]\n",
            " [4 5 6]], shape=(2, 3), dtype=int32)\n"
          ]
        }
      ]
    },
    {
      "cell_type": "markdown",
      "source": [
        "3D Tensor (시계열 데이터)\n",
        "features,timsteps,samples"
      ],
      "metadata": {
        "id": "DSrqrAKAcjUg"
      }
    },
    {
      "cell_type": "code",
      "source": [
        "t3= tf.constant([[[1,2,3],[4,5,6],[7,8,9]],[[1,2,3],[4,5,6],[7,8,9]],[[1,2,3],[4,5,6],[7,8,9]]])\n",
        "print(t3)\n"
      ],
      "metadata": {
        "colab": {
          "base_uri": "https://localhost:8080/"
        },
        "id": "ojA8ruLmcr78",
        "outputId": "3c72b16c-60a2-4cbd-c723-21b9f47d0113"
      },
      "execution_count": 8,
      "outputs": [
        {
          "output_type": "stream",
          "name": "stdout",
          "text": [
            "tf.Tensor(\n",
            "[[[1 2 3]\n",
            "  [4 5 6]\n",
            "  [7 8 9]]\n",
            "\n",
            " [[1 2 3]\n",
            "  [4 5 6]\n",
            "  [7 8 9]]\n",
            "\n",
            " [[1 2 3]\n",
            "  [4 5 6]\n",
            "  [7 8 9]]], shape=(3, 3, 3), dtype=int32)\n"
          ]
        }
      ]
    },
    {
      "cell_type": "markdown",
      "source": [
        "4D Tensor (4개의 축) \n",
        "# 주로 샘플, 높이,너비,컬러 채널을 가진 구조로 사용"
      ],
      "metadata": {
        "id": "RgRuKVJvdh9j"
      }
    },
    {
      "cell_type": "code",
      "source": [
        "t4 = tf.constant([[[[1,2],[3,4],[1,2],[3,4],[1,2],[3,4],[1,2],[3,4]]]])\n",
        "print(t4)"
      ],
      "metadata": {
        "colab": {
          "base_uri": "https://localhost:8080/"
        },
        "id": "NpGQb5G1fd9v",
        "outputId": "6b2e8e04-432f-461c-8ae9-fbaac88e7b6e"
      },
      "execution_count": 9,
      "outputs": [
        {
          "output_type": "stream",
          "name": "stdout",
          "text": [
            "tf.Tensor(\n",
            "[[[[1 2]\n",
            "   [3 4]\n",
            "   [1 2]\n",
            "   [3 4]\n",
            "   [1 2]\n",
            "   [3 4]\n",
            "   [1 2]\n",
            "   [3 4]]]], shape=(1, 1, 8, 2), dtype=int32)\n"
          ]
        }
      ]
    },
    {
      "cell_type": "markdown",
      "source": [
        "#텐서 데이터 타입\n",
        "정수형 텐서:int32\n",
        "\n",
        "실수형 텐서:float32\n",
        "\n",
        "문자열 텐서:string\n",
        "\n",
        "연산시 텐서의 타입 일치 필요\n",
        "\n",
        "타입변환에는 tf.cast()\n"
      ],
      "metadata": {
        "id": "JWjdlB9_i37F"
      }
    },
    {
      "cell_type": "code",
      "source": [
        "i = tf.constant(2)\n",
        "print(i)"
      ],
      "metadata": {
        "colab": {
          "base_uri": "https://localhost:8080/"
        },
        "id": "jEHadTlLjLRr",
        "outputId": "0560462c-d7c4-489a-9a17-3bce8f507e6b"
      },
      "execution_count": 10,
      "outputs": [
        {
          "output_type": "stream",
          "name": "stdout",
          "text": [
            "tf.Tensor(2, shape=(), dtype=int32)\n"
          ]
        }
      ]
    },
    {
      "cell_type": "code",
      "source": [
        "f = tf.constant(2.)\n",
        "print(f)"
      ],
      "metadata": {
        "colab": {
          "base_uri": "https://localhost:8080/"
        },
        "id": "R9hiN5arjYtQ",
        "outputId": "f5fe527c-95a2-4d76-90d3-28df617e406e"
      },
      "execution_count": 11,
      "outputs": [
        {
          "output_type": "stream",
          "name": "stdout",
          "text": [
            "tf.Tensor(2.0, shape=(), dtype=float32)\n"
          ]
        }
      ]
    },
    {
      "cell_type": "code",
      "source": [
        "s = tf.constant('hi')\n",
        "print(s)"
      ],
      "metadata": {
        "colab": {
          "base_uri": "https://localhost:8080/"
        },
        "id": "-pef7LSVjf5z",
        "outputId": "a306a130-7e24-4730-b469-09330d313ae4"
      },
      "execution_count": 12,
      "outputs": [
        {
          "output_type": "stream",
          "name": "stdout",
          "text": [
            "tf.Tensor(b'hi', shape=(), dtype=string)\n"
          ]
        }
      ]
    },
    {
      "cell_type": "code",
      "source": [
        "f16 = tf.constant(2., dtype=tf.float16)  # -> 32비트 float 타입을 16비트로 변환하고 dtype을 tf.float16 16비트로 변환시킴\n",
        "print(f16)"
      ],
      "metadata": {
        "colab": {
          "base_uri": "https://localhost:8080/"
        },
        "id": "kcBB_6JWjndX",
        "outputId": "956bb407-e8d0-442e-8095-bd35f4e6434c"
      },
      "execution_count": 13,
      "outputs": [
        {
          "output_type": "stream",
          "name": "stdout",
          "text": [
            "tf.Tensor(2.0, shape=(), dtype=float16)\n"
          ]
        }
      ]
    },
    {
      "cell_type": "code",
      "source": [
        "i8 = tf.constant(2, dtype=tf.int8)\n",
        "print(i8)"
      ],
      "metadata": {
        "colab": {
          "base_uri": "https://localhost:8080/"
        },
        "id": "LDtT0CS0j53b",
        "outputId": "b08355cd-1fec-4e01-a9fe-ff2c70ad5a73"
      },
      "execution_count": 15,
      "outputs": [
        {
          "output_type": "stream",
          "name": "stdout",
          "text": [
            "tf.Tensor(2, shape=(), dtype=int8)\n"
          ]
        }
      ]
    },
    {
      "cell_type": "code",
      "source": [
        "f32 = tf.cast(f16, tf.float32) #16비트였던 f16을 32로 cast(변화)함\n",
        "print(f32)"
      ],
      "metadata": {
        "colab": {
          "base_uri": "https://localhost:8080/"
        },
        "id": "81oPSVfwkRKi",
        "outputId": "04b88d69-3098-4338-a55a-68e75390ac6e"
      },
      "execution_count": 16,
      "outputs": [
        {
          "output_type": "stream",
          "name": "stdout",
          "text": [
            "tf.Tensor(2.0, shape=(), dtype=float32)\n"
          ]
        }
      ]
    },
    {
      "cell_type": "markdown",
      "source": [
        "#텐서 연산"
      ],
      "metadata": {
        "id": "79alQ5Q9ksF4"
      }
    },
    {
      "cell_type": "code",
      "source": [
        "a = tf.constant(2)\n",
        "b = tf.constant(5)\n",
        "\n",
        "print(tf.add(a,b)) #더하기 연산자\n",
        "print(tf.subtract(a,b)) #빼기 연산자"
      ],
      "metadata": {
        "colab": {
          "base_uri": "https://localhost:8080/"
        },
        "id": "3KjgBx1gktjV",
        "outputId": "c70f9864-7703-42b7-be47-e28a074860dd"
      },
      "execution_count": 23,
      "outputs": [
        {
          "output_type": "stream",
          "name": "stdout",
          "text": [
            "tf.Tensor(7, shape=(), dtype=int32)\n",
            "tf.Tensor(-3, shape=(), dtype=int32)\n"
          ]
        }
      ]
    },
    {
      "cell_type": "code",
      "source": [
        "a = tf.constant(2)\n",
        "b = tf.constant(5)\n",
        "\n",
        "print(tf.add(a,b)) #더하기 연산자\n",
        "print(tf.subtract(a,b)) #빼기 연산자\n",
        "print(tf.multiply(a,b)) #곱하기 연산자\n",
        "print(tf.divide(a,b)) #나눗셈 연산자"
      ],
      "metadata": {
        "colab": {
          "base_uri": "https://localhost:8080/"
        },
        "id": "GwTWttImk8Bp",
        "outputId": "575e83ee-04b5-4471-bb87-faca46304de0"
      },
      "execution_count": 24,
      "outputs": [
        {
          "output_type": "stream",
          "name": "stdout",
          "text": [
            "tf.Tensor(7, shape=(), dtype=int32)\n",
            "tf.Tensor(-3, shape=(), dtype=int32)\n",
            "tf.Tensor(10, shape=(), dtype=int32)\n",
            "tf.Tensor(0.4, shape=(), dtype=float64)\n"
          ]
        }
      ]
    },
    {
      "cell_type": "code",
      "source": [
        "print(tf.cast(tf.constant(2),tf.float32)+ tf.constant(2.2)) #tensor에서는 int형+float형을 cast 직접 해줘야 함"
      ],
      "metadata": {
        "colab": {
          "base_uri": "https://localhost:8080/"
        },
        "id": "7-GVJEbNl1ts",
        "outputId": "990d3dab-706e-4a56-d013-2246b04f26b2"
      },
      "execution_count": 29,
      "outputs": [
        {
          "output_type": "stream",
          "name": "stdout",
          "text": [
            "tf.Tensor(4.2, shape=(), dtype=float32)\n"
          ]
        }
      ]
    },
    {
      "cell_type": "markdown",
      "source": [
        "# 딥러닝 구조 및 학습\n",
        "\n",
        "모델을 구성하는 레이어\n",
        "\n",
        "입력 데이터와 그에 대한 목적\n",
        "\n",
        "학습시에 사용할 피드백을 정의하는 손실함수\n",
        "\n",
        "학습 진행 방식을 결정하는 옵티마이저"
      ],
      "metadata": {
        "id": "QTSGE9gzmrNO"
      }
    },
    {
      "cell_type": "markdown",
      "source": [
        "#레이어\n",
        "1.신경망의 핵심 데이터 구조\n",
        "\n",
        "2.하나 이상의 텐서를 입력받아 하나 이상의 텐서를 출력하는 데이터 처리 모듈\n",
        "\n",
        "3.상태가 없는 레이어도 있지만, 대부분 가중치(Weight)라는 레이어 상태를 가진다.\n",
        "\n",
        "4.가중치는 확률적 경사 하강법에 의해 학습되는 하나 이상의 텐서\n",
        "\n",
        "    keras에서 사용하는 주요 레이어\n",
        "    1.Dense\n",
        "    2.Activation\n",
        "    3.Flatten\n",
        "    4.Input"
      ],
      "metadata": {
        "id": "GRihQCtum5o-"
      }
    },
    {
      "cell_type": "code",
      "source": [
        "from tensorflow.keras.layers import Dense"
      ],
      "metadata": {
        "id": "7kkQg9-Fnop2"
      },
      "execution_count": 40,
      "outputs": []
    },
    {
      "cell_type": "code",
      "source": [
        "from tensorflow.keras.layers import Activation,Flatten,Input"
      ],
      "metadata": {
        "id": "Jf5w4_IpofGm"
      },
      "execution_count": 41,
      "outputs": []
    },
    {
      "cell_type": "markdown",
      "source": [
        "#Dense\n",
        "완전 연결 계층 (모든 노드가 서로 연결 된 상태)\n",
        "\n",
        "노드수(유닛수), 활성화 함수(activation)등 지정\n",
        "\n",
        "name을 통한 레이어간 구분 가능\n",
        "\n",
        "★가중치 초기화(kernel_intializer)"
      ],
      "metadata": {
        "id": "rH4NfLbHowPc"
      }
    },
    {
      "cell_type": "code",
      "source": [
        "Dense(10, activation='softmax') #softmax는 activation종류중 하나지만 가장 끝 값을 가져오는걸 의미"
      ],
      "metadata": {
        "colab": {
          "base_uri": "https://localhost:8080/"
        },
        "id": "ge7tMkFLpI7O",
        "outputId": "4ab49f8d-0de4-4348-b8b6-e812565c5425"
      },
      "execution_count": 43,
      "outputs": [
        {
          "output_type": "execute_result",
          "data": {
            "text/plain": [
              "<keras.layers.core.dense.Dense at 0x7f00d57ee190>"
            ]
          },
          "metadata": {},
          "execution_count": 43
        }
      ]
    },
    {
      "cell_type": "code",
      "source": [
        "Dense(10, activation='relu', name = 'relu')"
      ],
      "metadata": {
        "colab": {
          "base_uri": "https://localhost:8080/"
        },
        "id": "kqQAzhz_pcDw",
        "outputId": "e663c1bf-8f21-42f0-a2c5-fa6f2b3a3285"
      },
      "execution_count": 45,
      "outputs": [
        {
          "output_type": "execute_result",
          "data": {
            "text/plain": [
              "<keras.layers.core.dense.Dense at 0x7f00d58519a0>"
            ]
          },
          "metadata": {},
          "execution_count": 45
        }
      ]
    },
    {
      "cell_type": "code",
      "source": [
        "Dense(10, kernel_initializer = 'he_normal', name = 'Dense Layer')"
      ],
      "metadata": {
        "colab": {
          "base_uri": "https://localhost:8080/"
        },
        "id": "HGBx3lVIps-e",
        "outputId": "bfd34954-d7be-4760-fc53-02262970c2ef"
      },
      "execution_count": 46,
      "outputs": [
        {
          "output_type": "execute_result",
          "data": {
            "text/plain": [
              "<keras.layers.core.dense.Dense at 0x7f00d4d42bb0>"
            ]
          },
          "metadata": {},
          "execution_count": 46
        }
      ]
    },
    {
      "cell_type": "markdown",
      "source": [
        "Keras에서 제공하는 활성화 함수(Activation function) 종류는 : https://keras.io/ko/activations/\n",
        "\n",
        "Dense layer에서 미리 activation 지정 할 수도 있지만 필요에 따라 별도로 레이어를 만들 수도 있다.\n"
      ],
      "metadata": {
        "id": "clDz2ZtuqHme"
      }
    },
    {
      "cell_type": "code",
      "source": [
        "dense = Dense(10, activation='relu',name='Dense Layer')\n",
        "Activation(dense)"
      ],
      "metadata": {
        "colab": {
          "base_uri": "https://localhost:8080/"
        },
        "id": "1oWuDiifqXK7",
        "outputId": "0e114541-cbc0-48fe-d3cf-cac1354c5ab1"
      },
      "execution_count": 47,
      "outputs": [
        {
          "output_type": "execute_result",
          "data": {
            "text/plain": [
              "<keras.layers.core.activation.Activation at 0x7f00d587f0a0>"
            ]
          },
          "metadata": {},
          "execution_count": 47
        }
      ]
    },
    {
      "cell_type": "markdown",
      "source": [
        "#Flatten\n",
        "\n",
        "배치 크기(or 데이터 크기)를 제외하고 데이터를 1차원으로 펼치는 작업\n",
        "\n",
        "Ex) (128, 3, 2, 2) -> (128,12)"
      ],
      "metadata": {
        "id": "6d8je4laq6B_"
      }
    },
    {
      "cell_type": "code",
      "source": [
        "Flatten(input_shape=(128,3,2,2))"
      ],
      "metadata": {
        "colab": {
          "base_uri": "https://localhost:8080/"
        },
        "id": "J45hoYBUrDGu",
        "outputId": "5d66a535-a380-4b53-ef3e-7c50b0b33736"
      },
      "execution_count": 52,
      "outputs": [
        {
          "output_type": "execute_result",
          "data": {
            "text/plain": [
              "<keras.layers.reshaping.flatten.Flatten at 0x7f00d580b580>"
            ]
          },
          "metadata": {},
          "execution_count": 52
        }
      ]
    },
    {
      "cell_type": "markdown",
      "source": [
        "#Input\n",
        "1.모델의 입력을 정의\n",
        "\n",
        "2.shape, dtype을 포함\n",
        "\n",
        "3.하나의 모델은 여러 개의 입력을 가질 수 있음\n",
        "\n",
        "4.summary() 메소드를 통해서는 보이지 않음"
      ],
      "metadata": {
        "id": "espX6QLhrlnx"
      }
    },
    {
      "cell_type": "code",
      "source": [
        "Input(shape=(28,28), dtype=tf.float32)"
      ],
      "metadata": {
        "colab": {
          "base_uri": "https://localhost:8080/"
        },
        "id": "-0dMtFfUr0sm",
        "outputId": "20a5353f-cb4e-487a-a492-446116c35ddb"
      },
      "execution_count": 53,
      "outputs": [
        {
          "output_type": "execute_result",
          "data": {
            "text/plain": [
              "<KerasTensor: shape=(None, 28, 28) dtype=float32 (created by layer 'input_1')>"
            ]
          },
          "metadata": {},
          "execution_count": 53
        }
      ]
    },
    {
      "cell_type": "code",
      "source": [
        "Input(shape=(8,), dtype=tf.int32)"
      ],
      "metadata": {
        "colab": {
          "base_uri": "https://localhost:8080/"
        },
        "id": "gkv9LDrXr8LN",
        "outputId": "ca7f8c0f-b284-410c-a30d-c2dcfae55dcd"
      },
      "execution_count": 54,
      "outputs": [
        {
          "output_type": "execute_result",
          "data": {
            "text/plain": [
              "<KerasTensor: shape=(None, 8) dtype=int32 (created by layer 'input_2')>"
            ]
          },
          "metadata": {},
          "execution_count": 54
        }
      ]
    },
    {
      "cell_type": "code",
      "source": [],
      "metadata": {
        "id": "yx8xJWg2sDMT"
      },
      "execution_count": null,
      "outputs": []
    }
  ]
}