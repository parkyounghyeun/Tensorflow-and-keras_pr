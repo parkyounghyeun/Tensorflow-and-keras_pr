{
  "nbformat": 4,
  "nbformat_minor": 0,
  "metadata": {
    "colab": {
      "provenance": []
    },
    "kernelspec": {
      "name": "python3",
      "display_name": "Python 3"
    },
    "language_info": {
      "name": "python"
    },
    "accelerator": "GPU",
    "gpuClass": "standard"
  },
  "cells": [
    {
      "cell_type": "markdown",
      "source": [
        "텐서"
      ],
      "metadata": {
        "id": "_vR-8cQEbPs9"
      }
    },
    {
      "cell_type": "code",
      "source": [
        "import numpy as np\n",
        "import tensorflow as tf"
      ],
      "metadata": {
        "id": "uITFH28GbXqa"
      },
      "execution_count": 1,
      "outputs": []
    },
    {
      "cell_type": "markdown",
      "source": [
        "0D Tensor"
      ],
      "metadata": {
        "id": "tjJwcehsbjZQ"
      }
    },
    {
      "cell_type": "code",
      "source": [
        "t0 = tf.constant(1)\n",
        "print(t0)"
      ],
      "metadata": {
        "colab": {
          "base_uri": "https://localhost:8080/"
        },
        "id": "N8lxcpi3biC7",
        "outputId": "fc33173c-ec95-4426-a0c3-d6192a733dcb"
      },
      "execution_count": 3,
      "outputs": [
        {
          "output_type": "stream",
          "name": "stdout",
          "text": [
            "tf.Tensor(1, shape=(), dtype=int32)\n"
          ]
        }
      ]
    },
    {
      "cell_type": "markdown",
      "source": [
        "1D Tensor(Vector)"
      ],
      "metadata": {
        "id": "dh0yIN80bzOK"
      }
    },
    {
      "cell_type": "code",
      "source": [
        "t1 = tf.constant([1,2,3]) #하나의 축으로 연달아 있음\n",
        "print(t1)"
      ],
      "metadata": {
        "colab": {
          "base_uri": "https://localhost:8080/"
        },
        "id": "f5ZWpF-wb101",
        "outputId": "6284c956-5491-436d-af15-72a7fd487f52"
      },
      "execution_count": 5,
      "outputs": [
        {
          "output_type": "stream",
          "name": "stdout",
          "text": [
            "tf.Tensor([1 2 3], shape=(3,), dtype=int32)\n"
          ]
        }
      ]
    },
    {
      "cell_type": "markdown",
      "source": [
        "2D Tensor(Matrix)"
      ],
      "metadata": {
        "id": "1uuZ_777cJ-t"
      }
    },
    {
      "cell_type": "code",
      "source": [
        "t2 = tf.constant([[1,2,3],[4,5,6]]) # shape 2행 3열을 나타냄\n",
        "print(t2)"
      ],
      "metadata": {
        "colab": {
          "base_uri": "https://localhost:8080/"
        },
        "id": "6odFqI5DcOmi",
        "outputId": "8e3a090a-c082-46a5-fcc8-594c7bbaf881"
      },
      "execution_count": 7,
      "outputs": [
        {
          "output_type": "stream",
          "name": "stdout",
          "text": [
            "tf.Tensor(\n",
            "[[1 2 3]\n",
            " [4 5 6]], shape=(2, 3), dtype=int32)\n"
          ]
        }
      ]
    },
    {
      "cell_type": "markdown",
      "source": [
        "3D Tensor (시계열 데이터)\n",
        "features,timsteps,samples"
      ],
      "metadata": {
        "id": "DSrqrAKAcjUg"
      }
    },
    {
      "cell_type": "code",
      "source": [
        "t3= tf.constant([[[1,2,3],[4,5,6],[7,8,9]],[[1,2,3],[4,5,6],[7,8,9]],[[1,2,3],[4,5,6],[7,8,9]]])\n",
        "print(t3)\n"
      ],
      "metadata": {
        "colab": {
          "base_uri": "https://localhost:8080/"
        },
        "id": "ojA8ruLmcr78",
        "outputId": "3c72b16c-60a2-4cbd-c723-21b9f47d0113"
      },
      "execution_count": 8,
      "outputs": [
        {
          "output_type": "stream",
          "name": "stdout",
          "text": [
            "tf.Tensor(\n",
            "[[[1 2 3]\n",
            "  [4 5 6]\n",
            "  [7 8 9]]\n",
            "\n",
            " [[1 2 3]\n",
            "  [4 5 6]\n",
            "  [7 8 9]]\n",
            "\n",
            " [[1 2 3]\n",
            "  [4 5 6]\n",
            "  [7 8 9]]], shape=(3, 3, 3), dtype=int32)\n"
          ]
        }
      ]
    },
    {
      "cell_type": "markdown",
      "source": [
        "4D Tensor (4개의 축) \n",
        "# 주로 샘플, 높이,너비,컬러 채널을 가진 구조로 사용"
      ],
      "metadata": {
        "id": "RgRuKVJvdh9j"
      }
    },
    {
      "cell_type": "code",
      "source": [
        "t4 = tf.constant([[[[1,2],[3,4],[1,2],[3,4],[1,2],[3,4],[1,2],[3,4]]]])\n",
        "print(t4)"
      ],
      "metadata": {
        "colab": {
          "base_uri": "https://localhost:8080/"
        },
        "id": "NpGQb5G1fd9v",
        "outputId": "6b2e8e04-432f-461c-8ae9-fbaac88e7b6e"
      },
      "execution_count": 9,
      "outputs": [
        {
          "output_type": "stream",
          "name": "stdout",
          "text": [
            "tf.Tensor(\n",
            "[[[[1 2]\n",
            "   [3 4]\n",
            "   [1 2]\n",
            "   [3 4]\n",
            "   [1 2]\n",
            "   [3 4]\n",
            "   [1 2]\n",
            "   [3 4]]]], shape=(1, 1, 8, 2), dtype=int32)\n"
          ]
        }
      ]
    },
    {
      "cell_type": "code",
      "source": [],
      "metadata": {
        "id": "0PisYMbXf3bG"
      },
      "execution_count": null,
      "outputs": []
    }
  ]
}